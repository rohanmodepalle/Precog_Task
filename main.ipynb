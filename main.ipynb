{
 "cells": [
  {
   "cell_type": "code",
   "execution_count": 37,
   "metadata": {},
   "outputs": [
    {
     "name": "stderr",
     "output_type": "stream",
     "text": [
      "C:\\Users\\Rohan Chowdary V M\\AppData\\Local\\Temp\\ipykernel_2820\\1028536875.py:5: FutureWarning: The frame.append method is deprecated and will be removed from pandas in a future version. Use pandas.concat instead.\n",
      "  case_data = case_data.append(case_data2)\n"
     ]
    }
   ],
   "source": [
    "import pandas as pd\n",
    "\n",
    "case_data = pd.read_csv('cases_2010.csv')\n",
    "case_data2 = pd.read_csv('cases_2011.csv')\n",
    "case_data = case_data.append(case_data2)"
   ]
  },
  {
   "cell_type": "code",
   "execution_count": 38,
   "metadata": {},
   "outputs": [
    {
     "name": "stdout",
     "output_type": "stream",
     "text": [
      "461\n"
     ]
    }
   ],
   "source": [
    "# check how many distinct judge_position values there are\n",
    "print(len(case_data['judge_position'].unique()))"
   ]
  },
  {
   "cell_type": "code",
   "execution_count": 39,
   "metadata": {},
   "outputs": [],
   "source": [
    "import matplotlib.pyplot as plt"
   ]
  },
  {
   "cell_type": "code",
   "execution_count": 40,
   "metadata": {},
   "outputs": [
    {
     "data": {
      "text/html": [
       "<div>\n",
       "<style scoped>\n",
       "    .dataframe tbody tr th:only-of-type {\n",
       "        vertical-align: middle;\n",
       "    }\n",
       "\n",
       "    .dataframe tbody tr th {\n",
       "        vertical-align: top;\n",
       "    }\n",
       "\n",
       "    .dataframe thead th {\n",
       "        text-align: right;\n",
       "    }\n",
       "</style>\n",
       "<table border=\"1\" class=\"dataframe\">\n",
       "  <thead>\n",
       "    <tr style=\"text-align: right;\">\n",
       "      <th></th>\n",
       "      <th>ddl_case_id</th>\n",
       "      <th>year</th>\n",
       "      <th>state_code</th>\n",
       "      <th>dist_code</th>\n",
       "      <th>court_no</th>\n",
       "      <th>cino</th>\n",
       "      <th>judge_position</th>\n",
       "      <th>female_defendant</th>\n",
       "      <th>female_petitioner</th>\n",
       "      <th>female_adv_def</th>\n",
       "      <th>female_adv_pet</th>\n",
       "      <th>type_name</th>\n",
       "      <th>purpose_name</th>\n",
       "      <th>disp_name</th>\n",
       "      <th>date_of_filing</th>\n",
       "      <th>date_of_decision</th>\n",
       "      <th>date_first_list</th>\n",
       "      <th>date_last_list</th>\n",
       "      <th>date_next_list</th>\n",
       "    </tr>\n",
       "  </thead>\n",
       "  <tbody>\n",
       "    <tr>\n",
       "      <th>0</th>\n",
       "      <td>01-01-01-200308002162010</td>\n",
       "      <td>2010</td>\n",
       "      <td>1</td>\n",
       "      <td>1</td>\n",
       "      <td>1</td>\n",
       "      <td>MHNB030013812010</td>\n",
       "      <td>chief judicial magistrate</td>\n",
       "      <td>0 male</td>\n",
       "      <td>1 female</td>\n",
       "      <td>0</td>\n",
       "      <td>-9998</td>\n",
       "      <td>790</td>\n",
       "      <td>5228.0</td>\n",
       "      <td>42</td>\n",
       "      <td>2010-12-13</td>\n",
       "      <td>2011-06-19</td>\n",
       "      <td>2011-06-08</td>\n",
       "      <td>2011-06-20</td>\n",
       "      <td>2011-06-24</td>\n",
       "    </tr>\n",
       "    <tr>\n",
       "      <th>1</th>\n",
       "      <td>01-01-01-200707000172010</td>\n",
       "      <td>2010</td>\n",
       "      <td>1</td>\n",
       "      <td>1</td>\n",
       "      <td>1</td>\n",
       "      <td>MHNB030004552010</td>\n",
       "      <td>chief judicial magistrate</td>\n",
       "      <td>-9998 unclear</td>\n",
       "      <td>1 female</td>\n",
       "      <td>-9999</td>\n",
       "      <td>0</td>\n",
       "      <td>2587</td>\n",
       "      <td>3627.0</td>\n",
       "      <td>42</td>\n",
       "      <td>2010-02-25</td>\n",
       "      <td>2010-11-21</td>\n",
       "      <td>2010-08-06</td>\n",
       "      <td>2010-08-06</td>\n",
       "      <td>2010-11-30</td>\n",
       "    </tr>\n",
       "    <tr>\n",
       "      <th>2</th>\n",
       "      <td>01-01-01-200707000182010</td>\n",
       "      <td>2010</td>\n",
       "      <td>1</td>\n",
       "      <td>1</td>\n",
       "      <td>1</td>\n",
       "      <td>MHNB030004562010</td>\n",
       "      <td>chief judicial magistrate</td>\n",
       "      <td>-9998 unclear</td>\n",
       "      <td>-9998 unclear</td>\n",
       "      <td>-9999</td>\n",
       "      <td>0</td>\n",
       "      <td>2587</td>\n",
       "      <td>3627.0</td>\n",
       "      <td>42</td>\n",
       "      <td>2010-02-25</td>\n",
       "      <td>2010-11-21</td>\n",
       "      <td>2010-08-06</td>\n",
       "      <td>2010-08-06</td>\n",
       "      <td>2010-11-30</td>\n",
       "    </tr>\n",
       "    <tr>\n",
       "      <th>3</th>\n",
       "      <td>01-01-01-200707000192010</td>\n",
       "      <td>2010</td>\n",
       "      <td>1</td>\n",
       "      <td>1</td>\n",
       "      <td>1</td>\n",
       "      <td>MHNB030004582010</td>\n",
       "      <td>chief judicial magistrate</td>\n",
       "      <td>-9998 unclear</td>\n",
       "      <td>1 female</td>\n",
       "      <td>-9999</td>\n",
       "      <td>0</td>\n",
       "      <td>2587</td>\n",
       "      <td>3627.0</td>\n",
       "      <td>42</td>\n",
       "      <td>2010-02-25</td>\n",
       "      <td>2010-11-21</td>\n",
       "      <td>2010-08-06</td>\n",
       "      <td>2010-08-06</td>\n",
       "      <td>2010-11-30</td>\n",
       "    </tr>\n",
       "    <tr>\n",
       "      <th>4</th>\n",
       "      <td>01-01-01-200707000202010</td>\n",
       "      <td>2010</td>\n",
       "      <td>1</td>\n",
       "      <td>1</td>\n",
       "      <td>1</td>\n",
       "      <td>MHNB030004592010</td>\n",
       "      <td>chief judicial magistrate</td>\n",
       "      <td>-9998 unclear</td>\n",
       "      <td>-9998 unclear</td>\n",
       "      <td>-9999</td>\n",
       "      <td>0</td>\n",
       "      <td>2587</td>\n",
       "      <td>3627.0</td>\n",
       "      <td>42</td>\n",
       "      <td>2010-02-25</td>\n",
       "      <td>2010-11-21</td>\n",
       "      <td>2010-08-06</td>\n",
       "      <td>2010-08-06</td>\n",
       "      <td>2010-11-30</td>\n",
       "    </tr>\n",
       "  </tbody>\n",
       "</table>\n",
       "</div>"
      ],
      "text/plain": [
       "                ddl_case_id  year  state_code  dist_code  court_no  \\\n",
       "0  01-01-01-200308002162010  2010           1          1         1   \n",
       "1  01-01-01-200707000172010  2010           1          1         1   \n",
       "2  01-01-01-200707000182010  2010           1          1         1   \n",
       "3  01-01-01-200707000192010  2010           1          1         1   \n",
       "4  01-01-01-200707000202010  2010           1          1         1   \n",
       "\n",
       "               cino             judge_position female_defendant  \\\n",
       "0  MHNB030013812010  chief judicial magistrate           0 male   \n",
       "1  MHNB030004552010  chief judicial magistrate    -9998 unclear   \n",
       "2  MHNB030004562010  chief judicial magistrate    -9998 unclear   \n",
       "3  MHNB030004582010  chief judicial magistrate    -9998 unclear   \n",
       "4  MHNB030004592010  chief judicial magistrate    -9998 unclear   \n",
       "\n",
       "  female_petitioner  female_adv_def  female_adv_pet  type_name  purpose_name  \\\n",
       "0          1 female               0           -9998        790        5228.0   \n",
       "1          1 female           -9999               0       2587        3627.0   \n",
       "2     -9998 unclear           -9999               0       2587        3627.0   \n",
       "3          1 female           -9999               0       2587        3627.0   \n",
       "4     -9998 unclear           -9999               0       2587        3627.0   \n",
       "\n",
       "   disp_name date_of_filing date_of_decision date_first_list date_last_list  \\\n",
       "0         42     2010-12-13       2011-06-19      2011-06-08     2011-06-20   \n",
       "1         42     2010-02-25       2010-11-21      2010-08-06     2010-08-06   \n",
       "2         42     2010-02-25       2010-11-21      2010-08-06     2010-08-06   \n",
       "3         42     2010-02-25       2010-11-21      2010-08-06     2010-08-06   \n",
       "4         42     2010-02-25       2010-11-21      2010-08-06     2010-08-06   \n",
       "\n",
       "  date_next_list  \n",
       "0     2011-06-24  \n",
       "1     2010-11-30  \n",
       "2     2010-11-30  \n",
       "3     2010-11-30  \n",
       "4     2010-11-30  "
      ]
     },
     "execution_count": 40,
     "metadata": {},
     "output_type": "execute_result"
    }
   ],
   "source": [
    "case_data.head()"
   ]
  },
  {
   "cell_type": "code",
   "execution_count": 41,
   "metadata": {},
   "outputs": [
    {
     "data": {
      "image/png": "[encoded data removed]",
      "text/plain": [
       "<Figure size 432x288 with 1 Axes>"
      ]
     },
     "metadata": {
      "needs_background": "light"
     },
     "output_type": "display_data"
    }
   ],
   "source": [
    "# Convert to date time\n",
    "case_data['date_of_filing'] = pd.to_datetime(case_data['date_of_filing'], infer_datetime_format=True, errors='coerce')\n",
    "case_data['date_of_decision'] = pd.to_datetime(case_data['date_of_decision'], infer_datetime_format=True, errors='coerce')\n",
    "\n",
    "# Add an attribute to the dataframe that calculates the time to close a case in months\n",
    "case_data['time_to_close'] = (case_data['date_of_decision'] - case_data['date_of_filing']).dt.days \n",
    "\n",
    "# Plot bar chart of average time to close a case in each state\n",
    "case_data.groupby('state_code')['time_to_close'].mean().plot(kind='bar')\n",
    "plt.ylabel('Average time to close a case (days) in 2010 and 2011')\n",
    "plt.show()"
   ]
  },
  {
   "attachments": {},
   "cell_type": "markdown",
   "metadata": {},
   "source": [
    "The graph shows the average time taken for all the cases of years 2010 and 2011 to close in all the states.\n",
    "An observation is that this time is not very evenly distributed ranging from as low as 350 days to almost 2500 days on average in a state.\n",
    "This could mean that the judicial system is not very consistent throughout the country."
   ]
  },
  {
   "cell_type": "code",
   "execution_count": 42,
   "metadata": {},
   "outputs": [],
   "source": [
    "# get cases where defendant was a female\n",
    "\n",
    "female_defendant = case_data[case_data['female_defendant'] == '1 female']\n",
    "male_defendant = case_data[case_data['female_defendant'] == '0 male']\n",
    "unknown_defendant = case_data[case_data['female_defendant'] == '-9998 unclear']"
   ]
  },
  {
   "cell_type": "code",
   "execution_count": 43,
   "metadata": {},
   "outputs": [
    {
     "data": {
      "image/png": "[encoded data removed]",
      "text/plain": [
       "<Figure size 432x288 with 1 Axes>"
      ]
     },
     "metadata": {},
     "output_type": "display_data"
    }
   ],
   "source": [
    "# pie chart in matplotlib\n",
    "\n",
    "\n",
    "labels = ['Females', 'Males', 'Unknown']\n",
    "\n",
    "sizes = [female_defendant.shape[0], male_defendant.shape[0], unknown_defendant.shape[0]]\n",
    "\n",
    "fig1, ax1 = plt.subplots()\n",
    "ax1.pie(sizes, labels=labels, autopct='%1.1f%%',\n",
    "        shadow=True, startangle=90)\n",
    "ax1.axis('equal')  # Equal aspect ratio ensures that pie is drawn as a circle.\n",
    "plt.title('Gender distribution of defendants in 2010 and 2011')\n",
    "plt.show()"
   ]
  },
  {
   "attachments": {},
   "cell_type": "markdown",
   "metadata": {},
   "source": [
    "This graph shows the distribution of the gender of defendants in 2010 and 2011.\n",
    "The result shows us that most of the defendants were male."
   ]
  },
  {
   "cell_type": "code",
   "execution_count": 44,
   "metadata": {},
   "outputs": [
    {
     "data": {
      "image/png": "[encoded data removed]",
      "text/plain": [
       "<Figure size 432x288 with 1 Axes>"
      ]
     },
     "metadata": {
      "needs_background": "light"
     },
     "output_type": "display_data"
    }
   ],
   "source": [
    "# Group by no of cases filed in each month\n",
    "\n",
    "case_data.groupby(case_data['date_of_filing'].dt.month)['ddl_case_id'].count().plot(kind='bar')\n",
    "plt.ylabel('Number of cases filed in 2010')\n",
    "plt.xlabel('Month')\n",
    "plt.show()"
   ]
  },
  {
   "attachments": {},
   "cell_type": "markdown",
   "metadata": {},
   "source": [
    "This graph shows the monthly distribution of date of filing of cases in 2010 and 2011.\n",
    "The result shows us that this distribution is fairly even as it should be."
   ]
  },
  {
   "cell_type": "code",
   "execution_count": 45,
   "metadata": {},
   "outputs": [],
   "source": [
    "judges_data = pd.read_csv('csv/judges_clean.csv')"
   ]
  },
  {
   "cell_type": "code",
   "execution_count": 46,
   "metadata": {},
   "outputs": [
    {
     "data": {
      "text/html": [
       "<div>\n",
       "<style scoped>\n",
       "    .dataframe tbody tr th:only-of-type {\n",
       "        vertical-align: middle;\n",
       "    }\n",
       "\n",
       "    .dataframe tbody tr th {\n",
       "        vertical-align: top;\n",
       "    }\n",
       "\n",
       "    .dataframe thead th {\n",
       "        text-align: right;\n",
       "    }\n",
       "</style>\n",
       "<table border=\"1\" class=\"dataframe\">\n",
       "  <thead>\n",
       "    <tr style=\"text-align: right;\">\n",
       "      <th></th>\n",
       "      <th>ddl_judge_id</th>\n",
       "      <th>state_code</th>\n",
       "      <th>dist_code</th>\n",
       "      <th>court_no</th>\n",
       "      <th>judge_position</th>\n",
       "      <th>female_judge</th>\n",
       "      <th>start_date</th>\n",
       "      <th>end_date</th>\n",
       "    </tr>\n",
       "  </thead>\n",
       "  <tbody>\n",
       "    <tr>\n",
       "      <th>0</th>\n",
       "      <td>1</td>\n",
       "      <td>1</td>\n",
       "      <td>1</td>\n",
       "      <td>1</td>\n",
       "      <td>chief judicial magistrate</td>\n",
       "      <td>0 nonfemale</td>\n",
       "      <td>20-09-2013</td>\n",
       "      <td>20-02-2014</td>\n",
       "    </tr>\n",
       "    <tr>\n",
       "      <th>1</th>\n",
       "      <td>2</td>\n",
       "      <td>1</td>\n",
       "      <td>1</td>\n",
       "      <td>1</td>\n",
       "      <td>chief judicial magistrate</td>\n",
       "      <td>0 nonfemale</td>\n",
       "      <td>31-10-2013</td>\n",
       "      <td>20-02-2014</td>\n",
       "    </tr>\n",
       "    <tr>\n",
       "      <th>2</th>\n",
       "      <td>3</td>\n",
       "      <td>1</td>\n",
       "      <td>1</td>\n",
       "      <td>1</td>\n",
       "      <td>chief judicial magistrate</td>\n",
       "      <td>0 nonfemale</td>\n",
       "      <td>21-02-2014</td>\n",
       "      <td>31-05-2016</td>\n",
       "    </tr>\n",
       "    <tr>\n",
       "      <th>3</th>\n",
       "      <td>4</td>\n",
       "      <td>1</td>\n",
       "      <td>1</td>\n",
       "      <td>1</td>\n",
       "      <td>chief judicial magistrate</td>\n",
       "      <td>0 nonfemale</td>\n",
       "      <td>01-06-2016</td>\n",
       "      <td>06-06-2016</td>\n",
       "    </tr>\n",
       "    <tr>\n",
       "      <th>4</th>\n",
       "      <td>5</td>\n",
       "      <td>1</td>\n",
       "      <td>1</td>\n",
       "      <td>1</td>\n",
       "      <td>chief judicial magistrate</td>\n",
       "      <td>0 nonfemale</td>\n",
       "      <td>06-06-2016</td>\n",
       "      <td>07-07-2018</td>\n",
       "    </tr>\n",
       "  </tbody>\n",
       "</table>\n",
       "</div>"
      ],
      "text/plain": [
       "   ddl_judge_id  state_code  dist_code  court_no             judge_position  \\\n",
       "0             1           1          1         1  chief judicial magistrate   \n",
       "1             2           1          1         1  chief judicial magistrate   \n",
       "2             3           1          1         1  chief judicial magistrate   \n",
       "3             4           1          1         1  chief judicial magistrate   \n",
       "4             5           1          1         1  chief judicial magistrate   \n",
       "\n",
       "  female_judge  start_date    end_date  \n",
       "0  0 nonfemale  20-09-2013  20-02-2014  \n",
       "1  0 nonfemale  31-10-2013  20-02-2014  \n",
       "2  0 nonfemale  21-02-2014  31-05-2016  \n",
       "3  0 nonfemale  01-06-2016  06-06-2016  \n",
       "4  0 nonfemale  06-06-2016  07-07-2018  "
      ]
     },
     "execution_count": 46,
     "metadata": {},
     "output_type": "execute_result"
    }
   ],
   "source": [
    "judges_data.head()"
   ]
  },
  {
   "cell_type": "code",
   "execution_count": 47,
   "metadata": {},
   "outputs": [],
   "source": [
    "judges_data['start_date'] = pd.to_datetime(judges_data['start_date'], infer_datetime_format=True, errors='coerce')\n",
    "judges_data['end_date'] = pd.to_datetime(judges_data['end_date'], infer_datetime_format=True, errors='coerce')"
   ]
  },
  {
   "cell_type": "code",
   "execution_count": 48,
   "metadata": {},
   "outputs": [
    {
     "data": {
      "image/png": "[encoded data removed]",
      "text/plain": [
       "<Figure size 432x288 with 1 Axes>"
      ]
     },
     "metadata": {
      "needs_background": "light"
     },
     "output_type": "display_data"
    }
   ],
   "source": [
    "# plot bar graph of number of judges in each state\n",
    "\n",
    "female_judges = judges_data[judges_data['female_judge'] == '1 female']\n",
    "female_judges.groupby('state_code')['ddl_judge_id'].count().plot(kind='bar')\n",
    "plt.ylabel('Number of female judges in 2010')\n",
    "plt.xlabel('State')\n",
    "plt.show()"
   ]
  },
  {
   "attachments": {},
   "cell_type": "markdown",
   "metadata": {},
   "source": [
    "This graph shows us the number of female judges per state for the cases in 2010 and 2011.\n",
    "The result shows us that in state 1 the number of female judges handling cases is fairly more compared to the other states."
   ]
  },
  {
   "cell_type": "code",
   "execution_count": 49,
   "metadata": {},
   "outputs": [
    {
     "data": {
      "image/png": "[encoded data removed]",
      "text/plain": [
       "<Figure size 432x288 with 1 Axes>"
      ]
     },
     "metadata": {
      "needs_background": "light"
     },
     "output_type": "display_data"
    }
   ],
   "source": [
    "# find % of female judges in each state\n",
    "\n",
    "percent_female = judges_data[judges_data['female_judge'] == '1 female'].groupby('state_code')['ddl_judge_id'].count() * 100 / judges_data.groupby('state_code')['ddl_judge_id'].count()\n",
    "percent_female.plot(kind='bar')\n",
    "plt.show()"
   ]
  },
  {
   "attachments": {},
   "cell_type": "markdown",
   "metadata": {},
   "source": [
    "As the number of judges might not be give us a very good understanding, we plot the percentage of female judges handling cases in 2010 and 2011.\n",
    "This shows that though the number is high in state 1, the percentage is not very high and fairly even in all the states."
   ]
  },
  {
   "cell_type": "code",
   "execution_count": 50,
   "metadata": {},
   "outputs": [
    {
     "name": "stderr",
     "output_type": "stream",
     "text": [
      "C:\\Users\\Rohan Chowdary V M\\AppData\\Local\\Temp\\ipykernel_2820\\4027160881.py:1: DtypeWarning: Columns (3) have mixed types. Specify dtype option on import or set low_memory=False.\n",
      "  actions = pd.read_csv('csv/acts_sections.csv',nrows=20000000)\n"
     ]
    },
    {
     "name": "stdout",
     "output_type": "stream",
     "text": [
      "1411954\n"
     ]
    }
   ],
   "source": [
    "actions = pd.read_csv('csv/acts_sections.csv',nrows=20000000)\n",
    "actions = actions[actions['ddl_case_id'].str.endswith('2010') | actions['ddl_case_id'].str.endswith('2011') ]\n",
    "output = pd.merge(case_data, actions, on='ddl_case_id')\n",
    "output.drop('number_sections_ipc', axis=1, inplace=True)\n",
    "# if act is missing, replace it with most frequent act\n",
    "output = output.fillna(output['act'].value_counts().index[0])\n",
    "output = output.fillna(output['section'].value_counts().index[0])\n",
    "print(len(output))"
   ]
  },
  {
   "cell_type": "code",
   "execution_count": 51,
   "metadata": {},
   "outputs": [
    {
     "name": "stdout",
     "output_type": "stream",
     "text": [
      "<class 'pandas.core.frame.DataFrame'>\n",
      "Int64Index: 1411954 entries, 0 to 1411953\n",
      "Data columns (total 24 columns):\n",
      " #   Column             Non-Null Count    Dtype         \n",
      "---  ------             --------------    -----         \n",
      " 0   ddl_case_id        1411954 non-null  object        \n",
      " 1   year               1411954 non-null  int64         \n",
      " 2   state_code         1411954 non-null  int64         \n",
      " 3   dist_code          1411954 non-null  int64         \n",
      " 4   court_no           1411954 non-null  int64         \n",
      " 5   cino               1411954 non-null  object        \n",
      " 6   judge_position     1411954 non-null  object        \n",
      " 7   female_defendant   1411954 non-null  object        \n",
      " 8   female_petitioner  1411954 non-null  object        \n",
      " 9   female_adv_def     1411954 non-null  int64         \n",
      " 10  female_adv_pet     1411954 non-null  int64         \n",
      " 11  type_name          1411954 non-null  int64         \n",
      " 12  purpose_name       1411954 non-null  float64       \n",
      " 13  disp_name          1411954 non-null  int64         \n",
      " 14  date_of_filing     1411954 non-null  datetime64[ns]\n",
      " 15  date_of_decision   1411954 non-null  object        \n",
      " 16  date_first_list    1411954 non-null  object        \n",
      " 17  date_last_list     1411954 non-null  object        \n",
      " 18  date_next_list     1411954 non-null  object        \n",
      " 19  time_to_close      1411954 non-null  float64       \n",
      " 20  act                1411954 non-null  float64       \n",
      " 21  section            1411954 non-null  float64       \n",
      " 22  bailable_ipc       1411954 non-null  object        \n",
      " 23  criminal           1411954 non-null  int64         \n",
      "dtypes: datetime64[ns](1), float64(4), int64(9), object(10)\n",
      "memory usage: 269.3+ MB\n"
     ]
    }
   ],
   "source": [
    "output.info()"
   ]
  },
  {
   "cell_type": "code",
   "execution_count": 52,
   "metadata": {},
   "outputs": [],
   "source": [
    "output = output.drop(['year', 'court_no', 'cino', 'female_defendant', 'female_petitioner', 'female_adv_def', 'female_adv_pet', 'date_of_filing', 'date_of_decision', 'date_first_list', 'date_next_list', 'time_to_close', 'bailable_ipc'], axis=1)"
   ]
  },
  {
   "cell_type": "code",
   "execution_count": 53,
   "metadata": {},
   "outputs": [
    {
     "name": "stdout",
     "output_type": "stream",
     "text": [
      "<class 'pandas.core.frame.DataFrame'>\n",
      "Int64Index: 1411954 entries, 0 to 1411953\n",
      "Data columns (total 11 columns):\n",
      " #   Column          Non-Null Count    Dtype  \n",
      "---  ------          --------------    -----  \n",
      " 0   ddl_case_id     1411954 non-null  object \n",
      " 1   state_code      1411954 non-null  int64  \n",
      " 2   dist_code       1411954 non-null  int64  \n",
      " 3   judge_position  1411954 non-null  object \n",
      " 4   type_name       1411954 non-null  int64  \n",
      " 5   purpose_name    1411954 non-null  float64\n",
      " 6   disp_name       1411954 non-null  int64  \n",
      " 7   date_last_list  1411954 non-null  object \n",
      " 8   act             1411954 non-null  float64\n",
      " 9   section         1411954 non-null  float64\n",
      " 10  criminal        1411954 non-null  int64  \n",
      "dtypes: float64(3), int64(5), object(3)\n",
      "memory usage: 129.3+ MB\n"
     ]
    }
   ],
   "source": [
    "output.info()"
   ]
  },
  {
   "cell_type": "code",
   "execution_count": 54,
   "metadata": {},
   "outputs": [],
   "source": [
    "output = output.drop('date_last_list', axis=1)\n",
    "output = output.drop('judge_position', axis=1)"
   ]
  },
  {
   "cell_type": "code",
   "execution_count": 55,
   "metadata": {},
   "outputs": [],
   "source": [
    "output = output.drop('ddl_case_id', axis=1)\n"
   ]
  },
  {
   "cell_type": "code",
   "execution_count": 56,
   "metadata": {},
   "outputs": [],
   "source": [
    "# output = pd.get_dummies(output)"
   ]
  },
  {
   "cell_type": "code",
   "execution_count": 57,
   "metadata": {},
   "outputs": [
    {
     "name": "stdout",
     "output_type": "stream",
     "text": [
      "<class 'pandas.core.frame.DataFrame'>\n",
      "Int64Index: 1411954 entries, 0 to 1411953\n",
      "Data columns (total 8 columns):\n",
      " #   Column        Non-Null Count    Dtype  \n",
      "---  ------        --------------    -----  \n",
      " 0   state_code    1411954 non-null  int64  \n",
      " 1   dist_code     1411954 non-null  int64  \n",
      " 2   type_name     1411954 non-null  int64  \n",
      " 3   purpose_name  1411954 non-null  float64\n",
      " 4   disp_name     1411954 non-null  int64  \n",
      " 5   act           1411954 non-null  float64\n",
      " 6   section       1411954 non-null  float64\n",
      " 7   criminal      1411954 non-null  int64  \n",
      "dtypes: float64(3), int64(5)\n",
      "memory usage: 97.0 MB\n"
     ]
    }
   ],
   "source": [
    "output.info()"
   ]
  },
  {
   "attachments": {},
   "cell_type": "markdown",
   "metadata": {},
   "source": [
    "Now we come to our classification problem.\n",
    "In this problem, we try to get the cases of 2010 and 2011 and try to check if the case has falsely classified as a criminal case when based on other features, it should not have been the case.\n",
    "We use the following features to classify the cases:\n",
    "1. Act\n",
    "2. Section\n",
    "3. Type_Name\n",
    "4. Purpose_Name\n",
    "5. Disp_Name\n"
   ]
  },
  {
   "attachments": {},
   "cell_type": "markdown",
   "metadata": {},
   "source": [
    "We train the model on the cases of 2010 and 2011."
   ]
  },
  {
   "cell_type": "code",
   "execution_count": 58,
   "metadata": {},
   "outputs": [],
   "source": [
    "# from sklearn.tree import DecisionTreeClassifier\n",
    "\n",
    "from sklearn.model_selection import train_test_split\n",
    "\n",
    "x_train, x_test, y_train, y_test = train_test_split(output.drop('criminal', axis=1), output['criminal'], test_size=0.3, random_state=21)"
   ]
  },
  {
   "cell_type": "code",
   "execution_count": 59,
   "metadata": {},
   "outputs": [
    {
     "data": {
      "text/plain": [
       "0.7596219902877095"
      ]
     },
     "execution_count": 59,
     "metadata": {},
     "output_type": "execute_result"
    }
   ],
   "source": [
    "#bayesian classifier\n",
    "from sklearn.naive_bayes import GaussianNB\n",
    "rf = GaussianNB()\n",
    "rf.fit(x_train, y_train)\n",
    "rf.score(x_test, y_test)\n"
   ]
  },
  {
   "attachments": {},
   "cell_type": "markdown",
   "metadata": {},
   "source": [
    "The Gaussian Model gives an accuracy of 0.76."
   ]
  },
  {
   "cell_type": "code",
   "execution_count": 60,
   "metadata": {},
   "outputs": [
    {
     "data": {
      "text/plain": [
       "0.998444239318015"
      ]
     },
     "execution_count": 60,
     "metadata": {},
     "output_type": "execute_result"
    }
   ],
   "source": [
    "#knn\n",
    "from sklearn.neighbors import KNeighborsClassifier\n",
    "knn = KNeighborsClassifier(n_neighbors=5)\n",
    "knn = knn.fit(x_train, y_train)\n",
    "knn.score(x_test, y_test)"
   ]
  },
  {
   "attachments": {},
   "cell_type": "markdown",
   "metadata": {},
   "source": [
    "The KNN model gives us an accuracy of 0.99"
   ]
  },
  {
   "attachments": {},
   "cell_type": "markdown",
   "metadata": {},
   "source": [
    "Next, based on the test data and predicted data, we check the falsely classified cases."
   ]
  },
  {
   "cell_type": "code",
   "execution_count": 61,
   "metadata": {},
   "outputs": [
    {
     "name": "stdout",
     "output_type": "stream",
     "text": [
      "(101821, 7)\n"
     ]
    }
   ],
   "source": [
    "# get misclassified samples\n",
    "y_pred = rf.predict(x_test)\n",
    "misclassified = x_test[y_test != y_pred]\n",
    "print(misclassified.shape)\n",
    "misclassified.head()\n",
    "# for misclassified sample, join date_of_filing and date_of_decision to get time to close\n",
    "# misclassified = pd.merge(misclassified, case_data[['ddl_case_id', 'date_of_filing', 'date_of_decision']], on='ddl_case_id')\n",
    "# merge based on indices\n",
    "misclassified = pd.merge(misclassified, case_data, left_index=True, right_index=True)\n"
   ]
  },
  {
   "cell_type": "code",
   "execution_count": 62,
   "metadata": {},
   "outputs": [
    {
     "data": {
      "text/html": [
       "<div>\n",
       "<style scoped>\n",
       "    .dataframe tbody tr th:only-of-type {\n",
       "        vertical-align: middle;\n",
       "    }\n",
       "\n",
       "    .dataframe tbody tr th {\n",
       "        vertical-align: top;\n",
       "    }\n",
       "\n",
       "    .dataframe thead th {\n",
       "        text-align: right;\n",
       "    }\n",
       "</style>\n",
       "<table border=\"1\" class=\"dataframe\">\n",
       "  <thead>\n",
       "    <tr style=\"text-align: right;\">\n",
       "      <th></th>\n",
       "      <th>state_code_x</th>\n",
       "      <th>dist_code_x</th>\n",
       "      <th>type_name_x</th>\n",
       "      <th>purpose_name_x</th>\n",
       "      <th>disp_name_x</th>\n",
       "      <th>act</th>\n",
       "      <th>section</th>\n",
       "      <th>ddl_case_id</th>\n",
       "      <th>year</th>\n",
       "      <th>state_code_y</th>\n",
       "      <th>...</th>\n",
       "      <th>female_adv_pet</th>\n",
       "      <th>type_name_y</th>\n",
       "      <th>purpose_name_y</th>\n",
       "      <th>disp_name_y</th>\n",
       "      <th>date_of_filing</th>\n",
       "      <th>date_of_decision</th>\n",
       "      <th>date_first_list</th>\n",
       "      <th>date_last_list</th>\n",
       "      <th>date_next_list</th>\n",
       "      <th>time_to_close</th>\n",
       "    </tr>\n",
       "  </thead>\n",
       "  <tbody>\n",
       "    <tr>\n",
       "      <th>4</th>\n",
       "      <td>1</td>\n",
       "      <td>1</td>\n",
       "      <td>1429</td>\n",
       "      <td>4882.0</td>\n",
       "      <td>25</td>\n",
       "      <td>4759.0</td>\n",
       "      <td>132871.0</td>\n",
       "      <td>01-01-01-200707000202010</td>\n",
       "      <td>2010</td>\n",
       "      <td>1</td>\n",
       "      <td>...</td>\n",
       "      <td>0</td>\n",
       "      <td>2587</td>\n",
       "      <td>3627.0</td>\n",
       "      <td>42</td>\n",
       "      <td>2010-02-25</td>\n",
       "      <td>2010-11-21</td>\n",
       "      <td>2010-08-06</td>\n",
       "      <td>2010-08-06</td>\n",
       "      <td>2010-11-30</td>\n",
       "      <td>269.0</td>\n",
       "    </tr>\n",
       "    <tr>\n",
       "      <th>4</th>\n",
       "      <td>1</td>\n",
       "      <td>1</td>\n",
       "      <td>1429</td>\n",
       "      <td>4882.0</td>\n",
       "      <td>25</td>\n",
       "      <td>4759.0</td>\n",
       "      <td>132871.0</td>\n",
       "      <td>01-01-01-201908000062011</td>\n",
       "      <td>2011</td>\n",
       "      <td>1</td>\n",
       "      <td>...</td>\n",
       "      <td>0</td>\n",
       "      <td>1683</td>\n",
       "      <td>3737.0</td>\n",
       "      <td>30</td>\n",
       "      <td>2011-01-06</td>\n",
       "      <td>2014-05-30</td>\n",
       "      <td>2011-01-27</td>\n",
       "      <td>2014-05-21</td>\n",
       "      <td>2014-05-30</td>\n",
       "      <td>1240.0</td>\n",
       "    </tr>\n",
       "    <tr>\n",
       "      <th>6</th>\n",
       "      <td>1</td>\n",
       "      <td>1</td>\n",
       "      <td>1429</td>\n",
       "      <td>4834.0</td>\n",
       "      <td>25</td>\n",
       "      <td>4759.0</td>\n",
       "      <td>132871.0</td>\n",
       "      <td>01-01-01-201908000012010</td>\n",
       "      <td>2010</td>\n",
       "      <td>1</td>\n",
       "      <td>...</td>\n",
       "      <td>0</td>\n",
       "      <td>1429</td>\n",
       "      <td>2237.0</td>\n",
       "      <td>25</td>\n",
       "      <td>2010-01-02</td>\n",
       "      <td>2010-01-11</td>\n",
       "      <td>2010-01-05</td>\n",
       "      <td>2010-01-05</td>\n",
       "      <td>2010-01-11</td>\n",
       "      <td>9.0</td>\n",
       "    </tr>\n",
       "    <tr>\n",
       "      <th>6</th>\n",
       "      <td>1</td>\n",
       "      <td>1</td>\n",
       "      <td>1429</td>\n",
       "      <td>4834.0</td>\n",
       "      <td>25</td>\n",
       "      <td>4759.0</td>\n",
       "      <td>132871.0</td>\n",
       "      <td>01-01-01-201908000082011</td>\n",
       "      <td>2011</td>\n",
       "      <td>1</td>\n",
       "      <td>...</td>\n",
       "      <td>-9998</td>\n",
       "      <td>1683</td>\n",
       "      <td>4613.0</td>\n",
       "      <td>43</td>\n",
       "      <td>2011-01-06</td>\n",
       "      <td>2014-02-20</td>\n",
       "      <td>2011-02-28</td>\n",
       "      <td>2014-02-15</td>\n",
       "      <td>2014-02-20</td>\n",
       "      <td>1141.0</td>\n",
       "    </tr>\n",
       "    <tr>\n",
       "      <th>8</th>\n",
       "      <td>1</td>\n",
       "      <td>1</td>\n",
       "      <td>1429</td>\n",
       "      <td>3627.0</td>\n",
       "      <td>25</td>\n",
       "      <td>4759.0</td>\n",
       "      <td>132871.0</td>\n",
       "      <td>01-01-01-201908000032010</td>\n",
       "      <td>2010</td>\n",
       "      <td>1</td>\n",
       "      <td>...</td>\n",
       "      <td>0</td>\n",
       "      <td>1429</td>\n",
       "      <td>2237.0</td>\n",
       "      <td>25</td>\n",
       "      <td>2010-01-02</td>\n",
       "      <td>2010-02-11</td>\n",
       "      <td>2010-01-05</td>\n",
       "      <td>2010-01-27</td>\n",
       "      <td>2010-02-11</td>\n",
       "      <td>40.0</td>\n",
       "    </tr>\n",
       "  </tbody>\n",
       "</table>\n",
       "<p>5 rows × 27 columns</p>\n",
       "</div>"
      ],
      "text/plain": [
       "   state_code_x  dist_code_x  type_name_x  purpose_name_x  disp_name_x  \\\n",
       "4             1            1         1429          4882.0           25   \n",
       "4             1            1         1429          4882.0           25   \n",
       "6             1            1         1429          4834.0           25   \n",
       "6             1            1         1429          4834.0           25   \n",
       "8             1            1         1429          3627.0           25   \n",
       "\n",
       "      act   section               ddl_case_id  year  state_code_y  ...  \\\n",
       "4  4759.0  132871.0  01-01-01-200707000202010  2010             1  ...   \n",
       "4  4759.0  132871.0  01-01-01-201908000062011  2011             1  ...   \n",
       "6  4759.0  132871.0  01-01-01-201908000012010  2010             1  ...   \n",
       "6  4759.0  132871.0  01-01-01-201908000082011  2011             1  ...   \n",
       "8  4759.0  132871.0  01-01-01-201908000032010  2010             1  ...   \n",
       "\n",
       "   female_adv_pet  type_name_y purpose_name_y disp_name_y date_of_filing  \\\n",
       "4               0         2587         3627.0          42     2010-02-25   \n",
       "4               0         1683         3737.0          30     2011-01-06   \n",
       "6               0         1429         2237.0          25     2010-01-02   \n",
       "6           -9998         1683         4613.0          43     2011-01-06   \n",
       "8               0         1429         2237.0          25     2010-01-02   \n",
       "\n",
       "  date_of_decision  date_first_list  date_last_list  date_next_list  \\\n",
       "4       2010-11-21       2010-08-06      2010-08-06      2010-11-30   \n",
       "4       2014-05-30       2011-01-27      2014-05-21      2014-05-30   \n",
       "6       2010-01-11       2010-01-05      2010-01-05      2010-01-11   \n",
       "6       2014-02-20       2011-02-28      2014-02-15      2014-02-20   \n",
       "8       2010-02-11       2010-01-05      2010-01-27      2010-02-11   \n",
       "\n",
       "   time_to_close  \n",
       "4          269.0  \n",
       "4         1240.0  \n",
       "6            9.0  \n",
       "6         1141.0  \n",
       "8           40.0  \n",
       "\n",
       "[5 rows x 27 columns]"
      ]
     },
     "execution_count": 62,
     "metadata": {},
     "output_type": "execute_result"
    }
   ],
   "source": [
    "misclassified.head()"
   ]
  },
  {
   "attachments": {},
   "cell_type": "markdown",
   "metadata": {},
   "source": [
    "We try to compare the average time to close the cases of the falsely classified ones and the entire data set."
   ]
  },
  {
   "cell_type": "code",
   "execution_count": 63,
   "metadata": {},
   "outputs": [
    {
     "data": {
      "text/plain": [
       "991.3183855560995"
      ]
     },
     "execution_count": 63,
     "metadata": {},
     "output_type": "execute_result"
    }
   ],
   "source": [
    "case_data['time_to_close'].mean()"
   ]
  },
  {
   "cell_type": "code",
   "execution_count": 64,
   "metadata": {},
   "outputs": [],
   "source": [
    "misclassified['date_of_filing'] = pd.to_datetime(misclassified['date_of_filing'], infer_datetime_format=True, errors='coerce')\n",
    "misclassified['date_of_decision'] = pd.to_datetime(misclassified['date_of_decision'], infer_datetime_format=True, errors='coerce')\n",
    "misclassified['time_to_close'] = (misclassified['date_of_decision'] - misclassified['date_of_filing']).dt.days\n"
   ]
  },
  {
   "cell_type": "code",
   "execution_count": 65,
   "metadata": {},
   "outputs": [
    {
     "data": {
      "text/plain": [
       "746.4893432336331"
      ]
     },
     "execution_count": 65,
     "metadata": {},
     "output_type": "execute_result"
    }
   ],
   "source": [
    "misclassified['time_to_close'].mean()"
   ]
  },
  {
   "cell_type": "code",
   "execution_count": 66,
   "metadata": {},
   "outputs": [
    {
     "data": {
      "image/png": "[encoded data removed]",
      "text/plain": [
       "<Figure size 432x288 with 1 Axes>"
      ]
     },
     "metadata": {
      "needs_background": "light"
     },
     "output_type": "display_data"
    }
   ],
   "source": [
    "#plot bar graph comparing mean time to close for misclassified and all cases\n",
    "# create empty dataframe\n",
    "df = pd.DataFrame(columns=['time_to_close', 'type'])\n",
    "df['time_to_close'] = [case_data['time_to_close'].mean(), misclassified['time_to_close'].mean()]\n",
    "df['time_to_close'] = df['time_to_close'].astype(int)\n",
    "df['type'] = ['All cases', 'Misclassified cases']\n",
    "df['time_to_close'].plot(kind='bar')\n",
    "# set first name as all cases and second as misclassified cases\n",
    "plt.xticks([0,1], df['type'])\n",
    "plt.show()"
   ]
  },
  {
   "attachments": {},
   "cell_type": "markdown",
   "metadata": {},
   "source": [
    "We see that the time to close the case is comparatively very low for the falsely classified cases.\n",
    "This could mean that there are other factors influencing the closure of these cases which is not very honest and could be a sign of corruption in our judicial system.\n",
    "While it takes approximately 991 days on average to close a case, the falsely classified cases take only 746 days on average to close.\n",
    "Other factors also play a role in these cases, which could be incompetence of the judges or the lawyers."
   ]
  },
  {
   "attachments": {},
   "cell_type": "markdown",
   "metadata": {},
   "source": [
    "Next, we try to see the position of the judges who have misclassified the cases."
   ]
  },
  {
   "cell_type": "code",
   "execution_count": 67,
   "metadata": {},
   "outputs": [
    {
     "name": "stdout",
     "output_type": "stream",
     "text": [
      "106\n"
     ]
    }
   ],
   "source": [
    "# check how many distinct judge_position values there are\n",
    "print(len(misclassified['judge_position'].unique()))"
   ]
  },
  {
   "attachments": {},
   "cell_type": "markdown",
   "metadata": {},
   "source": [
    "We see that there are 106 unique judge positions where the cases have been misclassified"
   ]
  },
  {
   "cell_type": "code",
   "execution_count": 68,
   "metadata": {},
   "outputs": [
    {
     "data": {
      "image/png": "[encoded data removed]",
      "text/plain": [
       "<Figure size 432x288 with 1 Axes>"
      ]
     },
     "metadata": {},
     "output_type": "display_data"
    }
   ],
   "source": [
    "#print(misclassified['judge_position'].value_counts())\n",
    "# check how many judge_positions have values more than 1000\n",
    "#print(len(misclassified['judge_position'].value_counts()[misclassified['judge_position'].value_counts() > 3000]))\n",
    "# plot pie chart of top 10 judge_positions in misclassified samples\n",
    "misclassified['judge_position'].value_counts()[:10].plot(kind='pie')\n",
    "plt.show()"
   ]
  },
  {
   "cell_type": "code",
   "execution_count": 69,
   "metadata": {},
   "outputs": [
    {
     "data": {
      "image/png": "[encoded data removed]",
      "text/plain": [
       "<Figure size 432x288 with 1 Axes>"
      ]
     },
     "metadata": {
      "needs_background": "light"
     },
     "output_type": "display_data"
    }
   ],
   "source": [
    "misclassified['judge_position'].value_counts()[:10].plot(kind='bar')\n",
    "plt.show()"
   ]
  },
  {
   "attachments": {},
   "cell_type": "markdown",
   "metadata": {},
   "source": [
    "The above plots show us that among the top 10 positions of the judges, judicial magistrate judges have misclassified the most. This could mean that the judges in this position are more likely than others to be corrupt or incompetent. The government could take steps to improve the quality of these judges and how they handle the cases."
   ]
  },
  {
   "cell_type": "code",
   "execution_count": 70,
   "metadata": {},
   "outputs": [
    {
     "data": {
      "image/png": "[encoded data removed]",
      "text/plain": [
       "<Figure size 432x288 with 1 Axes>"
      ]
     },
     "metadata": {},
     "output_type": "display_data"
    }
   ],
   "source": [
    "misclassified['state_code_x'].value_counts().plot(kind='pie')\n",
    "plt.show()"
   ]
  },
  {
   "cell_type": "code",
   "execution_count": 71,
   "metadata": {},
   "outputs": [
    {
     "data": {
      "image/png": "[encoded data removed]",
      "text/plain": [
       "<Figure size 432x288 with 1 Axes>"
      ]
     },
     "metadata": {
      "needs_background": "light"
     },
     "output_type": "display_data"
    }
   ],
   "source": [
    "misclassified['state_code_x'].value_counts().plot(kind='bar')\n",
    "plt.show()"
   ]
  },
  {
   "attachments": {},
   "cell_type": "markdown",
   "metadata": {},
   "source": [
    "The above plots show that in very few states(3-4), the number of misclassified cases is very high compared to the other states. The above graph showing the distribution of female judges in courts, show that these are the states which have slighly higher number of cases than others. But the proportion by which the number of cases are higher, does not match the proportion by which the number of misclassified cases are higher. This could mean that due to pressure to close the cases fast, as it is a known fact there are a lot of pending cases in India, judges in these cases come up with hasty rulings which are not always right. This could be a reason for the high number of misclassified cases in these states. Of course, there could be other reasons as well such as the quality of the judges in these states, corruption etc."
   ]
  },
  {
   "cell_type": "code",
   "execution_count": 72,
   "metadata": {},
   "outputs": [
    {
     "name": "stdout",
     "output_type": "stream",
     "text": [
      "[[217308  48281]\n",
      " [ 53540 104458]]\n",
      "              precision    recall  f1-score   support\n",
      "\n",
      "           0       0.80      0.82      0.81    265589\n",
      "           1       0.68      0.66      0.67    157998\n",
      "\n",
      "    accuracy                           0.76    423587\n",
      "   macro avg       0.74      0.74      0.74    423587\n",
      "weighted avg       0.76      0.76      0.76    423587\n",
      "\n"
     ]
    },
    {
     "data": {
      "image/png": "[encoded data removed]",
      "text/plain": [
       "<Figure size 432x288 with 1 Axes>"
      ]
     },
     "metadata": {
      "needs_background": "light"
     },
     "output_type": "display_data"
    }
   ],
   "source": [
    "# performance metrics\n",
    "from sklearn.metrics import roc_curve\n",
    "def performance(y_pred, y_test):\n",
    "    from sklearn.metrics import confusion_matrix\n",
    "    from sklearn.metrics import classification_report\n",
    "    # roc curve\n",
    "    print(confusion_matrix(y_test, y_pred))\n",
    "    print(classification_report(y_test, y_pred))\n",
    "    roc = roc_curve(y_test, y_pred)\n",
    "    plt.plot(roc[0], roc[1])\n",
    "    plt.show()\n",
    "\n",
    "performance(y_pred, y_test)"
   ]
  },
  {
   "attachments": {},
   "cell_type": "markdown",
   "metadata": {},
   "source": [
    "We see the performance measure of the model using roc curve, confusion matrix and classification report."
   ]
  }
 ],
 "metadata": {
  "kernelspec": {
   "display_name": "Python 3",
   "language": "python",
   "name": "python3"
  },
  "language_info": {
   "codemirror_mode": {
    "name": "ipython",
    "version": 3
   },
   "file_extension": ".py",
   "mimetype": "text/x-python",
   "name": "python",
   "nbconvert_exporter": "python",
   "pygments_lexer": "ipython3",
   "version": "3.9.13"
  },
  "orig_nbformat": 4,
  "vscode": {
   "interpreter": {
    "hash": "7aedf4134b04ec8b6e0273a01aa9602388c4e70d8498cfacb48b28724c0cfdf0"
   }
  }
 },
 "nbformat": 4,
 "nbformat_minor": 2
}
